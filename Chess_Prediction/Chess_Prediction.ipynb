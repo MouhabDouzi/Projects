{
  "nbformat": 4,
  "nbformat_minor": 0,
  "metadata": {
    "colab": {
      "provenance": []
    },
    "kernelspec": {
      "name": "python3",
      "display_name": "Python 3"
    },
    "language_info": {
      "name": "python"
    }
  },
  "cells": [
    {
      "cell_type": "code",
      "execution_count": 1,
      "metadata": {
        "colab": {
          "base_uri": "https://localhost:8080/"
        },
        "id": "ZU8rlED1Jr5X",
        "outputId": "c0d61221-f0a7-4263-ba16-ec30a768b6bd"
      },
      "outputs": [
        {
          "output_type": "stream",
          "name": "stdout",
          "text": [
            "Requirement already satisfied: seaborn in /usr/local/lib/python3.11/dist-packages (0.13.2)\n",
            "Requirement already satisfied: xgboost in /usr/local/lib/python3.11/dist-packages (2.1.3)\n",
            "Requirement already satisfied: numpy!=1.24.0,>=1.20 in /usr/local/lib/python3.11/dist-packages (from seaborn) (1.26.4)\n",
            "Requirement already satisfied: pandas>=1.2 in /usr/local/lib/python3.11/dist-packages (from seaborn) (2.2.2)\n",
            "Requirement already satisfied: matplotlib!=3.6.1,>=3.4 in /usr/local/lib/python3.11/dist-packages (from seaborn) (3.10.0)\n",
            "Requirement already satisfied: nvidia-nccl-cu12 in /usr/local/lib/python3.11/dist-packages (from xgboost) (2.21.5)\n",
            "Requirement already satisfied: scipy in /usr/local/lib/python3.11/dist-packages (from xgboost) (1.13.1)\n",
            "Requirement already satisfied: contourpy>=1.0.1 in /usr/local/lib/python3.11/dist-packages (from matplotlib!=3.6.1,>=3.4->seaborn) (1.3.1)\n",
            "Requirement already satisfied: cycler>=0.10 in /usr/local/lib/python3.11/dist-packages (from matplotlib!=3.6.1,>=3.4->seaborn) (0.12.1)\n",
            "Requirement already satisfied: fonttools>=4.22.0 in /usr/local/lib/python3.11/dist-packages (from matplotlib!=3.6.1,>=3.4->seaborn) (4.55.3)\n",
            "Requirement already satisfied: kiwisolver>=1.3.1 in /usr/local/lib/python3.11/dist-packages (from matplotlib!=3.6.1,>=3.4->seaborn) (1.4.8)\n",
            "Requirement already satisfied: packaging>=20.0 in /usr/local/lib/python3.11/dist-packages (from matplotlib!=3.6.1,>=3.4->seaborn) (24.2)\n",
            "Requirement already satisfied: pillow>=8 in /usr/local/lib/python3.11/dist-packages (from matplotlib!=3.6.1,>=3.4->seaborn) (11.1.0)\n",
            "Requirement already satisfied: pyparsing>=2.3.1 in /usr/local/lib/python3.11/dist-packages (from matplotlib!=3.6.1,>=3.4->seaborn) (3.2.1)\n",
            "Requirement already satisfied: python-dateutil>=2.7 in /usr/local/lib/python3.11/dist-packages (from matplotlib!=3.6.1,>=3.4->seaborn) (2.8.2)\n",
            "Requirement already satisfied: pytz>=2020.1 in /usr/local/lib/python3.11/dist-packages (from pandas>=1.2->seaborn) (2024.2)\n",
            "Requirement already satisfied: tzdata>=2022.7 in /usr/local/lib/python3.11/dist-packages (from pandas>=1.2->seaborn) (2024.2)\n",
            "Requirement already satisfied: six>=1.5 in /usr/local/lib/python3.11/dist-packages (from python-dateutil>=2.7->matplotlib!=3.6.1,>=3.4->seaborn) (1.17.0)\n"
          ]
        }
      ],
      "source": [
        "# Install additional libraries if needed\n",
        "!pip install seaborn xgboost\n",
        "\n",
        "# Import necessary libraries\n",
        "import numpy as np\n",
        "import pandas as pd\n",
        "import seaborn as sns\n",
        "import matplotlib.pyplot as plt\n",
        "from sklearn.model_selection import train_test_split\n",
        "from sklearn.preprocessing import LabelEncoder\n",
        "from sklearn.metrics import accuracy_score, classification_report, confusion_matrix\n",
        "from xgboost import XGBClassifier\n"
      ]
    },
    {
      "cell_type": "code",
      "source": [
        "from google.colab import files\n",
        "\n",
        "# Upload the dataset\n",
        "uploaded = files.upload()\n",
        "\n",
        "# Load the dataset into a pandas DataFrame\n",
        "import pandas as pd\n",
        "df = pd.read_csv('games.csv')  # Replace 'games.csv' with the uploaded file name\n",
        "\n",
        "# Display the first few rows of the dataset\n",
        "print(df.head())\n"
      ],
      "metadata": {
        "colab": {
          "base_uri": "https://localhost:8080/",
          "height": 541
        },
        "id": "8JTP4NnQLe6O",
        "outputId": "9e184159-467c-4732-95ce-5d005c932e3c"
      },
      "execution_count": 2,
      "outputs": [
        {
          "output_type": "display_data",
          "data": {
            "text/plain": [
              "<IPython.core.display.HTML object>"
            ],
            "text/html": [
              "\n",
              "     <input type=\"file\" id=\"files-3513d020-117f-424a-abdf-76ace0686fb1\" name=\"files[]\" multiple disabled\n",
              "        style=\"border:none\" />\n",
              "     <output id=\"result-3513d020-117f-424a-abdf-76ace0686fb1\">\n",
              "      Upload widget is only available when the cell has been executed in the\n",
              "      current browser session. Please rerun this cell to enable.\n",
              "      </output>\n",
              "      <script>// Copyright 2017 Google LLC\n",
              "//\n",
              "// Licensed under the Apache License, Version 2.0 (the \"License\");\n",
              "// you may not use this file except in compliance with the License.\n",
              "// You may obtain a copy of the License at\n",
              "//\n",
              "//      http://www.apache.org/licenses/LICENSE-2.0\n",
              "//\n",
              "// Unless required by applicable law or agreed to in writing, software\n",
              "// distributed under the License is distributed on an \"AS IS\" BASIS,\n",
              "// WITHOUT WARRANTIES OR CONDITIONS OF ANY KIND, either express or implied.\n",
              "// See the License for the specific language governing permissions and\n",
              "// limitations under the License.\n",
              "\n",
              "/**\n",
              " * @fileoverview Helpers for google.colab Python module.\n",
              " */\n",
              "(function(scope) {\n",
              "function span(text, styleAttributes = {}) {\n",
              "  const element = document.createElement('span');\n",
              "  element.textContent = text;\n",
              "  for (const key of Object.keys(styleAttributes)) {\n",
              "    element.style[key] = styleAttributes[key];\n",
              "  }\n",
              "  return element;\n",
              "}\n",
              "\n",
              "// Max number of bytes which will be uploaded at a time.\n",
              "const MAX_PAYLOAD_SIZE = 100 * 1024;\n",
              "\n",
              "function _uploadFiles(inputId, outputId) {\n",
              "  const steps = uploadFilesStep(inputId, outputId);\n",
              "  const outputElement = document.getElementById(outputId);\n",
              "  // Cache steps on the outputElement to make it available for the next call\n",
              "  // to uploadFilesContinue from Python.\n",
              "  outputElement.steps = steps;\n",
              "\n",
              "  return _uploadFilesContinue(outputId);\n",
              "}\n",
              "\n",
              "// This is roughly an async generator (not supported in the browser yet),\n",
              "// where there are multiple asynchronous steps and the Python side is going\n",
              "// to poll for completion of each step.\n",
              "// This uses a Promise to block the python side on completion of each step,\n",
              "// then passes the result of the previous step as the input to the next step.\n",
              "function _uploadFilesContinue(outputId) {\n",
              "  const outputElement = document.getElementById(outputId);\n",
              "  const steps = outputElement.steps;\n",
              "\n",
              "  const next = steps.next(outputElement.lastPromiseValue);\n",
              "  return Promise.resolve(next.value.promise).then((value) => {\n",
              "    // Cache the last promise value to make it available to the next\n",
              "    // step of the generator.\n",
              "    outputElement.lastPromiseValue = value;\n",
              "    return next.value.response;\n",
              "  });\n",
              "}\n",
              "\n",
              "/**\n",
              " * Generator function which is called between each async step of the upload\n",
              " * process.\n",
              " * @param {string} inputId Element ID of the input file picker element.\n",
              " * @param {string} outputId Element ID of the output display.\n",
              " * @return {!Iterable<!Object>} Iterable of next steps.\n",
              " */\n",
              "function* uploadFilesStep(inputId, outputId) {\n",
              "  const inputElement = document.getElementById(inputId);\n",
              "  inputElement.disabled = false;\n",
              "\n",
              "  const outputElement = document.getElementById(outputId);\n",
              "  outputElement.innerHTML = '';\n",
              "\n",
              "  const pickedPromise = new Promise((resolve) => {\n",
              "    inputElement.addEventListener('change', (e) => {\n",
              "      resolve(e.target.files);\n",
              "    });\n",
              "  });\n",
              "\n",
              "  const cancel = document.createElement('button');\n",
              "  inputElement.parentElement.appendChild(cancel);\n",
              "  cancel.textContent = 'Cancel upload';\n",
              "  const cancelPromise = new Promise((resolve) => {\n",
              "    cancel.onclick = () => {\n",
              "      resolve(null);\n",
              "    };\n",
              "  });\n",
              "\n",
              "  // Wait for the user to pick the files.\n",
              "  const files = yield {\n",
              "    promise: Promise.race([pickedPromise, cancelPromise]),\n",
              "    response: {\n",
              "      action: 'starting',\n",
              "    }\n",
              "  };\n",
              "\n",
              "  cancel.remove();\n",
              "\n",
              "  // Disable the input element since further picks are not allowed.\n",
              "  inputElement.disabled = true;\n",
              "\n",
              "  if (!files) {\n",
              "    return {\n",
              "      response: {\n",
              "        action: 'complete',\n",
              "      }\n",
              "    };\n",
              "  }\n",
              "\n",
              "  for (const file of files) {\n",
              "    const li = document.createElement('li');\n",
              "    li.append(span(file.name, {fontWeight: 'bold'}));\n",
              "    li.append(span(\n",
              "        `(${file.type || 'n/a'}) - ${file.size} bytes, ` +\n",
              "        `last modified: ${\n",
              "            file.lastModifiedDate ? file.lastModifiedDate.toLocaleDateString() :\n",
              "                                    'n/a'} - `));\n",
              "    const percent = span('0% done');\n",
              "    li.appendChild(percent);\n",
              "\n",
              "    outputElement.appendChild(li);\n",
              "\n",
              "    const fileDataPromise = new Promise((resolve) => {\n",
              "      const reader = new FileReader();\n",
              "      reader.onload = (e) => {\n",
              "        resolve(e.target.result);\n",
              "      };\n",
              "      reader.readAsArrayBuffer(file);\n",
              "    });\n",
              "    // Wait for the data to be ready.\n",
              "    let fileData = yield {\n",
              "      promise: fileDataPromise,\n",
              "      response: {\n",
              "        action: 'continue',\n",
              "      }\n",
              "    };\n",
              "\n",
              "    // Use a chunked sending to avoid message size limits. See b/62115660.\n",
              "    let position = 0;\n",
              "    do {\n",
              "      const length = Math.min(fileData.byteLength - position, MAX_PAYLOAD_SIZE);\n",
              "      const chunk = new Uint8Array(fileData, position, length);\n",
              "      position += length;\n",
              "\n",
              "      const base64 = btoa(String.fromCharCode.apply(null, chunk));\n",
              "      yield {\n",
              "        response: {\n",
              "          action: 'append',\n",
              "          file: file.name,\n",
              "          data: base64,\n",
              "        },\n",
              "      };\n",
              "\n",
              "      let percentDone = fileData.byteLength === 0 ?\n",
              "          100 :\n",
              "          Math.round((position / fileData.byteLength) * 100);\n",
              "      percent.textContent = `${percentDone}% done`;\n",
              "\n",
              "    } while (position < fileData.byteLength);\n",
              "  }\n",
              "\n",
              "  // All done.\n",
              "  yield {\n",
              "    response: {\n",
              "      action: 'complete',\n",
              "    }\n",
              "  };\n",
              "}\n",
              "\n",
              "scope.google = scope.google || {};\n",
              "scope.google.colab = scope.google.colab || {};\n",
              "scope.google.colab._files = {\n",
              "  _uploadFiles,\n",
              "  _uploadFilesContinue,\n",
              "};\n",
              "})(self);\n",
              "</script> "
            ]
          },
          "metadata": {}
        },
        {
          "output_type": "stream",
          "name": "stdout",
          "text": [
            "Saving games.csv to games.csv\n",
            "         id  rated    created_at  last_move_at  turns victory_status winner  \\\n",
            "0  TZJHLljE  False  1.504210e+12  1.504210e+12     13      outoftime  white   \n",
            "1  l1NXvwaE   True  1.504130e+12  1.504130e+12     16         resign  black   \n",
            "2  mIICvQHh   True  1.504130e+12  1.504130e+12     61           mate  white   \n",
            "3  kWKvrqYL   True  1.504110e+12  1.504110e+12     61           mate  white   \n",
            "4  9tXo1AUZ   True  1.504030e+12  1.504030e+12     95           mate  white   \n",
            "\n",
            "  increment_code       white_id  white_rating      black_id  black_rating  \\\n",
            "0           15+2       bourgris          1500          a-00          1191   \n",
            "1           5+10           a-00          1322     skinnerua          1261   \n",
            "2           5+10         ischia          1496          a-00          1500   \n",
            "3           20+0  daniamurashov          1439  adivanov2009          1454   \n",
            "4           30+3      nik221107          1523  adivanov2009          1469   \n",
            "\n",
            "                                               moves opening_eco  \\\n",
            "0  d4 d5 c4 c6 cxd5 e6 dxe6 fxe6 Nf3 Bb4+ Nc3 Ba5...         D10   \n",
            "1  d4 Nc6 e4 e5 f4 f6 dxe5 fxe5 fxe5 Nxe5 Qd4 Nc6...         B00   \n",
            "2  e4 e5 d3 d6 Be3 c6 Be2 b5 Nd2 a5 a4 c5 axb5 Nc...         C20   \n",
            "3  d4 d5 Nf3 Bf5 Nc3 Nf6 Bf4 Ng4 e3 Nc6 Be2 Qd7 O...         D02   \n",
            "4  e4 e5 Nf3 d6 d4 Nc6 d5 Nb4 a3 Na6 Nc3 Be7 b4 N...         C41   \n",
            "\n",
            "                             opening_name  opening_ply  \n",
            "0        Slav Defense: Exchange Variation            5  \n",
            "1  Nimzowitsch Defense: Kennedy Variation            4  \n",
            "2   King's Pawn Game: Leonardis Variation            3  \n",
            "3  Queen's Pawn Game: Zukertort Variation            3  \n",
            "4                        Philidor Defense            5  \n"
          ]
        }
      ]
    },
    {
      "cell_type": "code",
      "source": [
        "# Display dataset shape and columns\n",
        "print(f\"Dataset Shape: {df.shape}\")\n",
        "print(f\"Columns: {df.columns}\")\n",
        "\n",
        "# Check for missing values\n",
        "print(df.isnull().sum())\n",
        "\n",
        "# Display basic statistics\n",
        "print(df.describe())\n"
      ],
      "metadata": {
        "colab": {
          "base_uri": "https://localhost:8080/"
        },
        "id": "qRJLMYFzMnIt",
        "outputId": "2c4a87e7-207c-427d-c69a-5de052da37af"
      },
      "execution_count": 3,
      "outputs": [
        {
          "output_type": "stream",
          "name": "stdout",
          "text": [
            "Dataset Shape: (20058, 16)\n",
            "Columns: Index(['id', 'rated', 'created_at', 'last_move_at', 'turns', 'victory_status',\n",
            "       'winner', 'increment_code', 'white_id', 'white_rating', 'black_id',\n",
            "       'black_rating', 'moves', 'opening_eco', 'opening_name', 'opening_ply'],\n",
            "      dtype='object')\n",
            "id                0\n",
            "rated             0\n",
            "created_at        0\n",
            "last_move_at      0\n",
            "turns             0\n",
            "victory_status    0\n",
            "winner            0\n",
            "increment_code    0\n",
            "white_id          0\n",
            "white_rating      0\n",
            "black_id          0\n",
            "black_rating      0\n",
            "moves             0\n",
            "opening_eco       0\n",
            "opening_name      0\n",
            "opening_ply       0\n",
            "dtype: int64\n",
            "         created_at  last_move_at         turns  white_rating  black_rating  \\\n",
            "count  2.005800e+04  2.005800e+04  20058.000000  20058.000000  20058.000000   \n",
            "mean   1.483617e+12  1.483618e+12     60.465999   1596.631868   1588.831987   \n",
            "std    2.850151e+10  2.850140e+10     33.570585    291.253376    291.036126   \n",
            "min    1.376772e+12  1.376772e+12      1.000000    784.000000    789.000000   \n",
            "25%    1.477548e+12  1.477548e+12     37.000000   1398.000000   1391.000000   \n",
            "50%    1.496010e+12  1.496010e+12     55.000000   1567.000000   1562.000000   \n",
            "75%    1.503170e+12  1.503170e+12     79.000000   1793.000000   1784.000000   \n",
            "max    1.504493e+12  1.504494e+12    349.000000   2700.000000   2723.000000   \n",
            "\n",
            "        opening_ply  \n",
            "count  20058.000000  \n",
            "mean       4.816981  \n",
            "std        2.797152  \n",
            "min        1.000000  \n",
            "25%        3.000000  \n",
            "50%        4.000000  \n",
            "75%        6.000000  \n",
            "max       28.000000  \n"
          ]
        }
      ]
    },
    {
      "cell_type": "code",
      "source": [
        "# Save the file to Colab's temporary storage\n",
        "df.to_csv('chess_games.csv', index=False)\n",
        "\n",
        "# Verify the file was saved\n",
        "!ls\n"
      ],
      "metadata": {
        "colab": {
          "base_uri": "https://localhost:8080/"
        },
        "id": "5K6knHAnN2_g",
        "outputId": "5da5b904-7634-48f2-97c0-66da968c847d"
      },
      "execution_count": 4,
      "outputs": [
        {
          "output_type": "stream",
          "name": "stdout",
          "text": [
            "chess_games.csv  games.csv  sample_data\n"
          ]
        }
      ]
    },
    {
      "cell_type": "code",
      "source": [
        "df = pd.read_csv('chess_games.csv')\n"
      ],
      "metadata": {
        "id": "0CKDNcy9N7mV"
      },
      "execution_count": 5,
      "outputs": []
    },
    {
      "cell_type": "code",
      "source": [
        "# Display the first few rows\n",
        "print(df.head())\n",
        "\n",
        "# Display dataset information\n",
        "df.info()\n",
        "\n",
        "# Check for unique values in key columns\n",
        "for column in df.columns:\n",
        "    print(f\"{column}: {df[column].nunique()} unique values\")\n"
      ],
      "metadata": {
        "colab": {
          "base_uri": "https://localhost:8080/"
        },
        "id": "TWk8nSc_OJEu",
        "outputId": "83061903-df8f-4e82-c770-8989a2d8df1f"
      },
      "execution_count": 7,
      "outputs": [
        {
          "output_type": "stream",
          "name": "stdout",
          "text": [
            "         id  rated    created_at  last_move_at  turns victory_status winner  \\\n",
            "0  TZJHLljE  False  1.504210e+12  1.504210e+12     13      outoftime  white   \n",
            "1  l1NXvwaE   True  1.504130e+12  1.504130e+12     16         resign  black   \n",
            "2  mIICvQHh   True  1.504130e+12  1.504130e+12     61           mate  white   \n",
            "3  kWKvrqYL   True  1.504110e+12  1.504110e+12     61           mate  white   \n",
            "4  9tXo1AUZ   True  1.504030e+12  1.504030e+12     95           mate  white   \n",
            "\n",
            "  increment_code       white_id  white_rating      black_id  black_rating  \\\n",
            "0           15+2       bourgris          1500          a-00          1191   \n",
            "1           5+10           a-00          1322     skinnerua          1261   \n",
            "2           5+10         ischia          1496          a-00          1500   \n",
            "3           20+0  daniamurashov          1439  adivanov2009          1454   \n",
            "4           30+3      nik221107          1523  adivanov2009          1469   \n",
            "\n",
            "                                               moves opening_eco  \\\n",
            "0  d4 d5 c4 c6 cxd5 e6 dxe6 fxe6 Nf3 Bb4+ Nc3 Ba5...         D10   \n",
            "1  d4 Nc6 e4 e5 f4 f6 dxe5 fxe5 fxe5 Nxe5 Qd4 Nc6...         B00   \n",
            "2  e4 e5 d3 d6 Be3 c6 Be2 b5 Nd2 a5 a4 c5 axb5 Nc...         C20   \n",
            "3  d4 d5 Nf3 Bf5 Nc3 Nf6 Bf4 Ng4 e3 Nc6 Be2 Qd7 O...         D02   \n",
            "4  e4 e5 Nf3 d6 d4 Nc6 d5 Nb4 a3 Na6 Nc3 Be7 b4 N...         C41   \n",
            "\n",
            "                             opening_name  opening_ply  \n",
            "0        Slav Defense: Exchange Variation            5  \n",
            "1  Nimzowitsch Defense: Kennedy Variation            4  \n",
            "2   King's Pawn Game: Leonardis Variation            3  \n",
            "3  Queen's Pawn Game: Zukertort Variation            3  \n",
            "4                        Philidor Defense            5  \n",
            "<class 'pandas.core.frame.DataFrame'>\n",
            "RangeIndex: 20058 entries, 0 to 20057\n",
            "Data columns (total 16 columns):\n",
            " #   Column          Non-Null Count  Dtype  \n",
            "---  ------          --------------  -----  \n",
            " 0   id              20058 non-null  object \n",
            " 1   rated           20058 non-null  bool   \n",
            " 2   created_at      20058 non-null  float64\n",
            " 3   last_move_at    20058 non-null  float64\n",
            " 4   turns           20058 non-null  int64  \n",
            " 5   victory_status  20058 non-null  object \n",
            " 6   winner          20058 non-null  object \n",
            " 7   increment_code  20058 non-null  object \n",
            " 8   white_id        20058 non-null  object \n",
            " 9   white_rating    20058 non-null  int64  \n",
            " 10  black_id        20058 non-null  object \n",
            " 11  black_rating    20058 non-null  int64  \n",
            " 12  moves           20058 non-null  object \n",
            " 13  opening_eco     20058 non-null  object \n",
            " 14  opening_name    20058 non-null  object \n",
            " 15  opening_ply     20058 non-null  int64  \n",
            "dtypes: bool(1), float64(2), int64(4), object(9)\n",
            "memory usage: 2.3+ MB\n",
            "id: 19113 unique values\n",
            "rated: 2 unique values\n",
            "created_at: 13151 unique values\n",
            "last_move_at: 13186 unique values\n",
            "turns: 211 unique values\n",
            "victory_status: 4 unique values\n",
            "winner: 3 unique values\n",
            "increment_code: 400 unique values\n",
            "white_id: 9438 unique values\n",
            "white_rating: 1516 unique values\n",
            "black_id: 9331 unique values\n",
            "black_rating: 1521 unique values\n",
            "moves: 18920 unique values\n",
            "opening_eco: 365 unique values\n",
            "opening_name: 1477 unique values\n",
            "opening_ply: 23 unique values\n"
          ]
        }
      ]
    },
    {
      "cell_type": "code",
      "source": [
        "# Check for missing values\n",
        "print(\"Missing Values:\")\n",
        "print(df.isnull().sum())\n",
        "\n",
        "# Drop rows or fill missing values (depending on analysis needs)\n",
        "df = df.dropna()  # Dropping rows with missing values\n",
        "\n",
        "# Verify no missing values remain\n",
        "print(\"After Cleaning:\")\n",
        "print(df.isnull().sum())\n"
      ],
      "metadata": {
        "colab": {
          "base_uri": "https://localhost:8080/"
        },
        "id": "lLOMMJxkObdt",
        "outputId": "c10edd23-a8b3-4139-9442-18369924f136"
      },
      "execution_count": 8,
      "outputs": [
        {
          "output_type": "stream",
          "name": "stdout",
          "text": [
            "Missing Values:\n",
            "id                0\n",
            "rated             0\n",
            "created_at        0\n",
            "last_move_at      0\n",
            "turns             0\n",
            "victory_status    0\n",
            "winner            0\n",
            "increment_code    0\n",
            "white_id          0\n",
            "white_rating      0\n",
            "black_id          0\n",
            "black_rating      0\n",
            "moves             0\n",
            "opening_eco       0\n",
            "opening_name      0\n",
            "opening_ply       0\n",
            "dtype: int64\n",
            "After Cleaning:\n",
            "id                0\n",
            "rated             0\n",
            "created_at        0\n",
            "last_move_at      0\n",
            "turns             0\n",
            "victory_status    0\n",
            "winner            0\n",
            "increment_code    0\n",
            "white_id          0\n",
            "white_rating      0\n",
            "black_id          0\n",
            "black_rating      0\n",
            "moves             0\n",
            "opening_eco       0\n",
            "opening_name      0\n",
            "opening_ply       0\n",
            "dtype: int64\n"
          ]
        }
      ]
    },
    {
      "cell_type": "code",
      "source": [
        "# @title Default title text\n",
        "# Inspect the columns in the dataset\n",
        "print(\"Columns in the dataset:\")\n",
        "print(df.columns)\n",
        "\n",
        "# Adjust the column names based on the dataset structure\n",
        "# Update 'selected_columns' as necessary to match the dataset\n",
        "selected_columns = ['WhiteElo', 'BlackElo', 'Result', 'Opening', 'Moves']\n",
        "\n",
        "# Check if the selected columns exist in the dataset\n",
        "missing_columns = [col for col in selected_columns if col not in df.columns]\n",
        "if missing_columns:\n",
        "    print(f\"Warning: The following columns are missing from the dataset: {missing_columns}\")\n",
        "    # Suggest alternative action or skip missing columns\n",
        "else:\n",
        "    # Retain only the selected columns\n",
        "    df = df[selected_columns]\n",
        "\n",
        "    # Display the first few rows of the selected columns\n",
        "    print(\"Selected columns preview:\")\n",
        "    print(df.head())\n"
      ],
      "metadata": {
        "colab": {
          "base_uri": "https://localhost:8080/"
        },
        "id": "AgacifWEOhfW",
        "outputId": "0f9e0290-a027-4288-ec22-a603ba032be6"
      },
      "execution_count": 10,
      "outputs": [
        {
          "output_type": "stream",
          "name": "stdout",
          "text": [
            "Columns in the dataset:\n",
            "Index(['id', 'rated', 'created_at', 'last_move_at', 'turns', 'victory_status',\n",
            "       'winner', 'increment_code', 'white_id', 'white_rating', 'black_id',\n",
            "       'black_rating', 'moves', 'opening_eco', 'opening_name', 'opening_ply'],\n",
            "      dtype='object')\n",
            "Warning: The following columns are missing from the dataset: ['WhiteElo', 'BlackElo', 'Result', 'Opening', 'Moves']\n"
          ]
        }
      ]
    },
    {
      "cell_type": "code",
      "source": [
        "# Select relevant columns for analysis\n",
        "selected_columns = ['white_rating', 'black_rating', 'winner', 'opening_name', 'moves']\n",
        "df = df[selected_columns]\n",
        "\n",
        "# Display the first few rows of the selected columns\n",
        "print(\"Selected columns preview:\")\n",
        "print(df.head())\n"
      ],
      "metadata": {
        "colab": {
          "base_uri": "https://localhost:8080/"
        },
        "id": "9WVAAVViQ-Pe",
        "outputId": "e3e8a29b-b1cf-4658-f142-d73003f24462"
      },
      "execution_count": 16,
      "outputs": [
        {
          "output_type": "stream",
          "name": "stdout",
          "text": [
            "Selected columns preview:\n",
            "   white_rating  black_rating winner                            opening_name  \\\n",
            "0          1500          1191  white        Slav Defense: Exchange Variation   \n",
            "1          1322          1261  black  Nimzowitsch Defense: Kennedy Variation   \n",
            "2          1496          1500  white   King's Pawn Game: Leonardis Variation   \n",
            "3          1439          1454  white  Queen's Pawn Game: Zukertort Variation   \n",
            "4          1523          1469  white                        Philidor Defense   \n",
            "\n",
            "                                               moves  \n",
            "0  d4 d5 c4 c6 cxd5 e6 dxe6 fxe6 Nf3 Bb4+ Nc3 Ba5...  \n",
            "1  d4 Nc6 e4 e5 f4 f6 dxe5 fxe5 fxe5 Nxe5 Qd4 Nc6...  \n",
            "2  e4 e5 d3 d6 Be3 c6 Be2 b5 Nd2 a5 a4 c5 axb5 Nc...  \n",
            "3  d4 d5 Nf3 Bf5 Nc3 Nf6 Bf4 Ng4 e3 Nc6 Be2 Qd7 O...  \n",
            "4  e4 e5 Nf3 d6 d4 Nc6 d5 Nb4 a3 Na6 Nc3 Be7 b4 N...  \n"
          ]
        }
      ]
    },
    {
      "cell_type": "code",
      "source": [
        "# Check for missing values\n",
        "print(\"Missing values in selected columns:\")\n",
        "print(df.isnull().sum())\n"
      ],
      "metadata": {
        "colab": {
          "base_uri": "https://localhost:8080/"
        },
        "id": "_dbShe7JRAAn",
        "outputId": "fa8616c6-1861-498c-82fb-91edf05ca522"
      },
      "execution_count": 17,
      "outputs": [
        {
          "output_type": "stream",
          "name": "stdout",
          "text": [
            "Missing values in selected columns:\n",
            "white_rating    0\n",
            "black_rating    0\n",
            "winner          0\n",
            "opening_name    0\n",
            "moves           0\n",
            "dtype: int64\n"
          ]
        }
      ]
    },
    {
      "cell_type": "code",
      "source": [
        "# Drop rows with missing values (optional)\n",
        "df = df.dropna()\n",
        "\n",
        "# Or fill missing values (example: fill with 'Unknown' for categorical columns)\n",
        "# df['opening_name'].fillna('Unknown', inplace=True)\n"
      ],
      "metadata": {
        "id": "JmHZNmxMRFkF"
      },
      "execution_count": 18,
      "outputs": []
    },
    {
      "cell_type": "code",
      "source": [
        "# Rename columns\n",
        "df.rename(columns={\n",
        "    'white_rating': 'WhiteElo',\n",
        "    'black_rating': 'BlackElo',\n",
        "    'winner': 'Result',\n",
        "    'opening_name': 'Opening',\n",
        "    'moves': 'MoveList'\n",
        "}, inplace=True)\n"
      ],
      "metadata": {
        "id": "7z9x5Ov7RIn4"
      },
      "execution_count": 19,
      "outputs": []
    },
    {
      "cell_type": "code",
      "source": [
        "import matplotlib.pyplot as plt\n",
        "import seaborn as sns\n",
        "\n",
        "# Plot distribution of player ratings\n",
        "plt.figure(figsize=(10, 5))\n",
        "sns.histplot(df['WhiteElo'], bins=30, kde=True, color='blue', label='White Elo')\n",
        "sns.histplot(df['BlackElo'], bins=30, kde=True, color='red', label='Black Elo')\n",
        "plt.title('Distribution of Player Ratings')\n",
        "plt.xlabel('Elo Rating')\n",
        "plt.ylabel('Frequency')\n",
        "plt.legend()\n",
        "plt.show()\n"
      ],
      "metadata": {
        "colab": {
          "base_uri": "https://localhost:8080/",
          "height": 487
        },
        "id": "WOtpgpIURM30",
        "outputId": "104d233e-7469-4176-ac87-872993f934c9"
      },
      "execution_count": 20,
      "outputs": [
        {
          "output_type": "display_data",
          "data": {
            "text/plain": [
              "<Figure size 1000x500 with 1 Axes>"
            ],
            "image/png": "[encoded data removed]"
          },
          "metadata": {}
        }
      ]
    },
    {
      "cell_type": "code",
      "source": [
        "# Calculate rating difference\n",
        "df['RatingDifference'] = df['WhiteElo'] - df['BlackElo']\n",
        "\n",
        "# Analyze win rates\n",
        "win_rate = df.groupby('Result')['RatingDifference'].mean()\n",
        "print(\"Average Rating Difference for Each Result:\")\n",
        "print(win_rate)\n"
      ],
      "metadata": {
        "colab": {
          "base_uri": "https://localhost:8080/"
        },
        "id": "uuG3ERGRRmwO",
        "outputId": "dbfa70db-95f0-4d7c-8bbe-356e46e32c8c"
      },
      "execution_count": 21,
      "outputs": [
        {
          "output_type": "stream",
          "name": "stdout",
          "text": [
            "Average Rating Difference for Each Result:\n",
            "Result\n",
            "black   -88.981113\n",
            "draw     14.348421\n",
            "white    95.307469\n",
            "Name: RatingDifference, dtype: float64\n"
          ]
        }
      ]
    },
    {
      "cell_type": "code",
      "source": [
        "# Count most common openings\n",
        "opening_counts = df['Opening'].value_counts().head(10)\n",
        "print(\"Top 10 Most Common Openings:\")\n",
        "print(opening_counts)\n",
        "\n",
        "# Visualize\n",
        "plt.figure(figsize=(10, 5))\n",
        "sns.barplot(x=opening_counts.values, y=opening_counts.index, palette='viridis')\n",
        "plt.title('Top 10 Most Common Openings')\n",
        "plt.xlabel('Frequency')\n",
        "plt.ylabel('Opening Name')\n",
        "plt.show()\n"
      ],
      "metadata": {
        "colab": {
          "base_uri": "https://localhost:8080/",
          "height": 804
        },
        "id": "hFYPd71YRqKa",
        "outputId": "69a201d5-d056-4f84-9be3-bc53bccc28bd"
      },
      "execution_count": 22,
      "outputs": [
        {
          "output_type": "stream",
          "name": "stdout",
          "text": [
            "Top 10 Most Common Openings:\n",
            "Opening\n",
            "Van't Kruijs Opening                             368\n",
            "Sicilian Defense                                 358\n",
            "Sicilian Defense: Bowdler Attack                 296\n",
            "Scotch Game                                      271\n",
            "French Defense: Knight Variation                 271\n",
            "Scandinavian Defense: Mieses-Kotroc Variation    259\n",
            "Queen's Pawn Game: Mason Attack                  232\n",
            "Queen's Pawn Game: Chigorin Variation            229\n",
            "Scandinavian Defense                             223\n",
            "Horwitz Defense                                  209\n",
            "Name: count, dtype: int64\n"
          ]
        },
        {
          "output_type": "stream",
          "name": "stderr",
          "text": [
            "<ipython-input-22-c809dbde2117>:8: FutureWarning: \n",
            "\n",
            "Passing `palette` without assigning `hue` is deprecated and will be removed in v0.14.0. Assign the `y` variable to `hue` and set `legend=False` for the same effect.\n",
            "\n",
            "  sns.barplot(x=opening_counts.values, y=opening_counts.index, palette='viridis')\n"
          ]
        },
        {
          "output_type": "display_data",
          "data": {
            "text/plain": [
              "<Figure size 1000x500 with 1 Axes>"
            ],
            "image/png": "[encoded data removed]"
          },
          "metadata": {}
        }
      ]
    },
    {
      "cell_type": "code",
      "source": [
        "from sklearn.preprocessing import LabelEncoder\n",
        "\n",
        "# Encode Result column\n",
        "label_encoder = LabelEncoder()\n",
        "df['Result'] = label_encoder.fit_transform(df['Result'])\n",
        "print(\"Result mapping:\", dict(zip(label_encoder.classes_, label_encoder.transform(label_encoder.classes_))))\n"
      ],
      "metadata": {
        "colab": {
          "base_uri": "https://localhost:8080/"
        },
        "id": "Xi-Lb-WbRtW-",
        "outputId": "ce5d7ae4-1d6b-4839-f3e9-180ac4380bfb"
      },
      "execution_count": 23,
      "outputs": [
        {
          "output_type": "stream",
          "name": "stdout",
          "text": [
            "Result mapping: {'black': 0, 'draw': 1, 'white': 2}\n"
          ]
        }
      ]
    },
    {
      "cell_type": "code",
      "source": [
        "# Count number of moves in each game\n",
        "df['NumberOfMoves'] = df['MoveList'].apply(lambda x: len(x.split()))\n"
      ],
      "metadata": {
        "id": "zIjz9J2PRwwy"
      },
      "execution_count": 24,
      "outputs": []
    },
    {
      "cell_type": "code",
      "source": [
        "df = df.drop(['MoveList'], axis=1)\n"
      ],
      "metadata": {
        "id": "rT7iVPEuRzgc"
      },
      "execution_count": 25,
      "outputs": []
    },
    {
      "cell_type": "code",
      "source": [
        "from sklearn.model_selection import train_test_split\n",
        "\n",
        "# Define features and target\n",
        "X = df.drop('Result', axis=1)\n",
        "y = df['Result']\n",
        "\n",
        "# Split the data\n",
        "X_train, X_test, y_train, y_test = train_test_split(X, y, test_size=0.2, random_state=42)\n",
        "\n",
        "print(\"Training set size:\", X_train.shape)\n",
        "print(\"Testing set size:\", X_test.shape)\n"
      ],
      "metadata": {
        "colab": {
          "base_uri": "https://localhost:8080/"
        },
        "id": "NiX_SEF2R1jW",
        "outputId": "bddb4449-1863-48fc-9443-63ac3585339b"
      },
      "execution_count": 26,
      "outputs": [
        {
          "output_type": "stream",
          "name": "stdout",
          "text": [
            "Training set size: (16046, 5)\n",
            "Testing set size: (4012, 5)\n"
          ]
        }
      ]
    },
    {
      "cell_type": "code",
      "source": [
        "from sklearn.preprocessing import OneHotEncoder\n",
        "\n",
        "# Identify categorical columns\n",
        "categorical_columns = ['Opening']\n",
        "\n",
        "# Apply one-hot encoding to categorical columns\n",
        "one_hot_encoder = OneHotEncoder(sparse_output=False, drop='first')\n",
        "encoded_features = one_hot_encoder.fit_transform(df[categorical_columns])\n",
        "\n",
        "# Convert encoded features to a DataFrame\n",
        "encoded_df = pd.DataFrame(\n",
        "    encoded_features,\n",
        "    columns=one_hot_encoder.get_feature_names_out(categorical_columns)\n",
        ")\n",
        "\n",
        "# Drop original categorical columns and concatenate encoded features\n",
        "df = df.drop(categorical_columns, axis=1)\n",
        "df = pd.concat([df.reset_index(drop=True), encoded_df.reset_index(drop=True)], axis=1)\n",
        "\n",
        "print(\"Data after encoding:\")\n",
        "print(df.head())\n"
      ],
      "metadata": {
        "colab": {
          "base_uri": "https://localhost:8080/"
        },
        "id": "kYn6wsr2SsYP",
        "outputId": "44a0f662-819e-4e3d-82f8-22aa2bcbcbd9"
      },
      "execution_count": 29,
      "outputs": [
        {
          "output_type": "stream",
          "name": "stdout",
          "text": [
            "Data after encoding:\n",
            "   WhiteElo  BlackElo  Result  RatingDifference  NumberOfMoves  \\\n",
            "0      1500      1191       2               309             13   \n",
            "1      1322      1261       0                61             16   \n",
            "2      1496      1500       2                -4             61   \n",
            "3      1439      1454       2               -15             61   \n",
            "4      1523      1469       2                54             95   \n",
            "\n",
            "   Opening_Alekhine Defense #2  Opening_Alekhine Defense #3  \\\n",
            "0                          0.0                          0.0   \n",
            "1                          0.0                          0.0   \n",
            "2                          0.0                          0.0   \n",
            "3                          0.0                          0.0   \n",
            "4                          0.0                          0.0   \n",
            "\n",
            "   Opening_Alekhine Defense: Balogh Variation  \\\n",
            "0                                         0.0   \n",
            "1                                         0.0   \n",
            "2                                         0.0   \n",
            "3                                         0.0   \n",
            "4                                         0.0   \n",
            "\n",
            "   Opening_Alekhine Defense: Brooklyn Variation  \\\n",
            "0                                           0.0   \n",
            "1                                           0.0   \n",
            "2                                           0.0   \n",
            "3                                           0.0   \n",
            "4                                           0.0   \n",
            "\n",
            "   Opening_Alekhine Defense: Exchange Variation  ...  \\\n",
            "0                                           0.0  ...   \n",
            "1                                           0.0  ...   \n",
            "2                                           0.0  ...   \n",
            "3                                           0.0  ...   \n",
            "4                                           0.0  ...   \n",
            "\n",
            "   Opening_Zukertort Opening: Quiet System  \\\n",
            "0                                      0.0   \n",
            "1                                      0.0   \n",
            "2                                      0.0   \n",
            "3                                      0.0   \n",
            "4                                      0.0   \n",
            "\n",
            "   Opening_Zukertort Opening: Reversed Mexican Defense  \\\n",
            "0                                                0.0     \n",
            "1                                                0.0     \n",
            "2                                                0.0     \n",
            "3                                                0.0     \n",
            "4                                                0.0     \n",
            "\n",
            "   Opening_Zukertort Opening: Ross Gambit  \\\n",
            "0                                     0.0   \n",
            "1                                     0.0   \n",
            "2                                     0.0   \n",
            "3                                     0.0   \n",
            "4                                     0.0   \n",
            "\n",
            "   Opening_Zukertort Opening: Santasiere's Folly  \\\n",
            "0                                            0.0   \n",
            "1                                            0.0   \n",
            "2                                            0.0   \n",
            "3                                            0.0   \n",
            "4                                            0.0   \n",
            "\n",
            "   Opening_Zukertort Opening: Sicilian Invitation  \\\n",
            "0                                             0.0   \n",
            "1                                             0.0   \n",
            "2                                             0.0   \n",
            "3                                             0.0   \n",
            "4                                             0.0   \n",
            "\n",
            "   Opening_Zukertort Opening: Slav Invitation  \\\n",
            "0                                         0.0   \n",
            "1                                         0.0   \n",
            "2                                         0.0   \n",
            "3                                         0.0   \n",
            "4                                         0.0   \n",
            "\n",
            "   Opening_Zukertort Opening: Tennison Gambit  \\\n",
            "0                                         0.0   \n",
            "1                                         0.0   \n",
            "2                                         0.0   \n",
            "3                                         0.0   \n",
            "4                                         0.0   \n",
            "\n",
            "   Opening_Zukertort Opening: The Walrus  \\\n",
            "0                                    0.0   \n",
            "1                                    0.0   \n",
            "2                                    0.0   \n",
            "3                                    0.0   \n",
            "4                                    0.0   \n",
            "\n",
            "   Opening_Zukertort Opening: Vos Gambit  \\\n",
            "0                                    0.0   \n",
            "1                                    0.0   \n",
            "2                                    0.0   \n",
            "3                                    0.0   \n",
            "4                                    0.0   \n",
            "\n",
            "   Opening_Zukertort Opening: Wade Defense  \n",
            "0                                      0.0  \n",
            "1                                      0.0  \n",
            "2                                      0.0  \n",
            "3                                      0.0  \n",
            "4                                      0.0  \n",
            "\n",
            "[5 rows x 1481 columns]\n"
          ]
        }
      ]
    },
    {
      "cell_type": "code",
      "source": [
        "# Define features and target\n",
        "X = df.drop('Result', axis=1)\n",
        "y = df['Result']\n",
        "\n",
        "# Train-test split\n",
        "from sklearn.model_selection import train_test_split\n",
        "X_train, X_test, y_train, y_test = train_test_split(X, y, test_size=0.2, random_state=42)\n"
      ],
      "metadata": {
        "id": "x9NNAqsUS5mA"
      },
      "execution_count": 30,
      "outputs": []
    },
    {
      "cell_type": "code",
      "source": [
        "from sklearn.ensemble import RandomForestClassifier\n",
        "from sklearn.metrics import accuracy_score, classification_report\n",
        "\n",
        "# Train the model\n",
        "rf_model = RandomForestClassifier(n_estimators=100, random_state=42)\n",
        "rf_model.fit(X_train, y_train)\n",
        "\n",
        "# Make predictions\n",
        "rf_y_pred = rf_model.predict(X_test)\n",
        "\n",
        "# Evaluate the model\n",
        "print(\"Random Forest Accuracy:\", accuracy_score(y_test, rf_y_pred))\n",
        "print(\"Classification Report:\")\n",
        "print(classification_report(y_test, rf_y_pred))\n"
      ],
      "metadata": {
        "colab": {
          "base_uri": "https://localhost:8080/"
        },
        "id": "qsatdacFTAU8",
        "outputId": "48e100b7-2945-482d-cba6-21963d36af11"
      },
      "execution_count": 31,
      "outputs": [
        {
          "output_type": "stream",
          "name": "stdout",
          "text": [
            "Random Forest Accuracy: 0.650049850448654\n",
            "Classification Report:\n",
            "              precision    recall  f1-score   support\n",
            "\n",
            "           0       0.64      0.63      0.64      1816\n",
            "           1       0.65      0.09      0.16       192\n",
            "           2       0.66      0.72      0.69      2004\n",
            "\n",
            "    accuracy                           0.65      4012\n",
            "   macro avg       0.65      0.48      0.49      4012\n",
            "weighted avg       0.65      0.65      0.64      4012\n",
            "\n"
          ]
        }
      ]
    },
    {
      "cell_type": "code",
      "source": [
        "from sklearn.metrics import accuracy_score, precision_score, recall_score, f1_score, classification_report\n",
        "\n",
        "# Make predictions on the test set\n",
        "y_pred = rf_model.predict(X_test)\n",
        "\n",
        "# Evaluate the model\n",
        "accuracy = accuracy_score(y_test, y_pred)\n",
        "precision = precision_score(y_test, y_pred, average='weighted')\n",
        "recall = recall_score(y_test, y_pred, average='weighted')\n",
        "f1 = f1_score(y_test, y_pred, average='weighted')\n",
        "\n",
        "print(f\"Accuracy: {accuracy:.2f}\")\n",
        "print(f\"Precision: {precision:.2f}\")\n",
        "print(f\"Recall: {recall:.2f}\")\n",
        "print(f\"F1 Score: {f1:.2f}\")\n",
        "print(\"\\nClassification Report:\")\n",
        "print(classification_report(y_test, y_pred))\n"
      ],
      "metadata": {
        "colab": {
          "base_uri": "https://localhost:8080/"
        },
        "id": "NFXbwaj7T9Kk",
        "outputId": "a4de33e2-4af9-440c-ccec-295fe82248ac"
      },
      "execution_count": 33,
      "outputs": [
        {
          "output_type": "stream",
          "name": "stdout",
          "text": [
            "Accuracy: 0.65\n",
            "Precision: 0.65\n",
            "Recall: 0.65\n",
            "F1 Score: 0.64\n",
            "\n",
            "Classification Report:\n",
            "              precision    recall  f1-score   support\n",
            "\n",
            "           0       0.64      0.63      0.64      1816\n",
            "           1       0.65      0.09      0.16       192\n",
            "           2       0.66      0.72      0.69      2004\n",
            "\n",
            "    accuracy                           0.65      4012\n",
            "   macro avg       0.65      0.48      0.49      4012\n",
            "weighted avg       0.65      0.65      0.64      4012\n",
            "\n"
          ]
        }
      ]
    },
    {
      "cell_type": "code",
      "source": [
        "import joblib\n",
        "\n",
        "# Save the model\n",
        "joblib.dump(rf_model, 'chess_model.pkl')\n",
        "print(\"Model saved as 'chess_model.pkl'\")\n"
      ],
      "metadata": {
        "colab": {
          "base_uri": "https://localhost:8080/"
        },
        "id": "6ZFZHq6hUT06",
        "outputId": "1ab48db8-79df-425a-b2ec-2ca40fc0da3d"
      },
      "execution_count": 35,
      "outputs": [
        {
          "output_type": "stream",
          "name": "stdout",
          "text": [
            "Model saved as 'chess_model.pkl'\n"
          ]
        }
      ]
    },
    {
      "cell_type": "code",
      "source": [],
      "metadata": {
        "id": "KmI1nDuOUcIn"
      },
      "execution_count": null,
      "outputs": []
    }
  ]
}